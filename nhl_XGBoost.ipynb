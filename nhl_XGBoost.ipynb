{
  "nbformat": 4,
  "nbformat_minor": 0,
  "metadata": {
    "colab": {
      "name": "nhl_XGBoost.ipynb",
      "provenance": [],
      "collapsed_sections": []
    },
    "kernelspec": {
      "display_name": "Python 3",
      "name": "python3"
    }
  },
  "cells": [
    {
      "cell_type": "markdown",
      "metadata": {
        "id": "VyI1848v1msS"
      },
      "source": [
        "####Using the NHL API to attempt to use various ML model types to predict points/game for players based on their performance in past seasons and information such as their age, position, nationality \r\n",
        "#####Thanks to Drew Hynes https://gitlab.com/dword4/nhlapi for mapping out the NHL API "
      ]
    },
    {
      "cell_type": "code",
      "metadata": {
        "id": "C2IxnasENW87"
      },
      "source": [
        "import requests\r\n",
        "import tqdm\r\n",
        "import pandas as pd\r\n",
        "from xgboost import XGBRegressor\r\n",
        "import numpy as np\r\n",
        "from sklearn.model_selection import cross_val_score, train_test_split,GridSearchCV\r\n",
        "from sklearn.preprocessing import MinMaxScaler\r\n",
        "from sklearn.metrics import mean_absolute_error ,mean_squared_error, max_error"
      ],
      "execution_count": 224,
      "outputs": []
    },
    {
      "cell_type": "markdown",
      "metadata": {
        "id": "5h0x5QZDBLfd"
      },
      "source": [
        "###1. Gathering Data from API"
      ]
    },
    {
      "cell_type": "code",
      "metadata": {
        "id": "zPjSLGfNWERv"
      },
      "source": [
        "#Getting the ID's of all the teams in NHL\r\n",
        "r = requests.get(url='http://statsapi.web.nhl.com/api/v1/teams')\r\n",
        "data = r.json()\r\n",
        "team_ids = []\r\n",
        "for team in data['teams']:\r\n",
        "  team_ids.append(team['id'])"
      ],
      "execution_count": 2,
      "outputs": []
    },
    {
      "cell_type": "code",
      "metadata": {
        "id": "cC_aK8lrV1Ok",
        "colab": {
          "base_uri": "https://localhost:8080/"
        },
        "outputId": "ad13028b-0dbe-435b-b8c9-fb01a9f768f1"
      },
      "source": [
        "#Getting the ID's of all active NHL players\r\n",
        "player_ids = set()\r\n",
        "for team in tqdm.tqdm(team_ids):\r\n",
        "  r = requests.get(url=f'http://statsapi.web.nhl.com/api/v1/teams/{team}/roster')\r\n",
        "  data = r.json()\r\n",
        "  for player in data['roster']:\r\n",
        "    player_ids.add(player['person']['id'])"
      ],
      "execution_count": 3,
      "outputs": [
        {
          "output_type": "stream",
          "text": [
            "100%|██████████| 31/31 [00:03<00:00,  9.43it/s]\n"
          ],
          "name": "stderr"
        }
      ]
    },
    {
      "cell_type": "code",
      "metadata": {
        "colab": {
          "base_uri": "https://localhost:8080/"
        },
        "id": "NKi7cdJ0cCeY",
        "outputId": "cf4f0df0-1519-4a4f-f383-073e607da404"
      },
      "source": [
        "#Getting the per season statistics for each currently active player for the last 5 seasons and their current age, position(forward/defence/goalie), and nationality\r\n",
        "ages_dict ={}\r\n",
        "position_dict = {}\r\n",
        "nationality_dict = {}\r\n",
        "\r\n",
        "stats_dict =  {player : [] for player in player_ids }\r\n",
        "seasons = ['20152016','20162017','20172018','20182019','20192020']\r\n",
        "for season in seasons:\r\n",
        "  for player in tqdm.tqdm(player_ids):\r\n",
        "      r = requests.get(url=f'http://statsapi.web.nhl.com/api/v1/people/{player}/stats?stats=statsSingleSeason&season={season}')\r\n",
        "      data = r.json()\r\n",
        "      stats_dict[player].append(data['stats'][0]['splits'])\r\n",
        "      r = requests.get(url=f'http://statsapi.web.nhl.com/api/v1/people/{player}')\r\n",
        "      data = r.json()\r\n",
        "      ages_dict[player] = data['people'][0]['currentAge']\r\n",
        "      position_dict[player] = data['people'][0]['primaryPosition']['type']\r\n",
        "      nationality_dict[player] = data['people'][0]['nationality']"
      ],
      "execution_count": 7,
      "outputs": [
        {
          "output_type": "stream",
          "text": [
            "100%|██████████| 1139/1139 [03:05<00:00,  6.16it/s]\n",
            "100%|██████████| 1139/1139 [02:45<00:00,  6.87it/s]\n",
            "100%|██████████| 1139/1139 [02:48<00:00,  6.75it/s]\n",
            "100%|██████████| 1139/1139 [02:50<00:00,  6.69it/s]\n",
            "100%|██████████| 1139/1139 [02:22<00:00,  7.99it/s]\n"
          ],
          "name": "stderr"
        }
      ]
    },
    {
      "cell_type": "markdown",
      "metadata": {
        "id": "cd4bA9k6BScZ"
      },
      "source": [
        "###2. Creating Dataframe and Features"
      ]
    },
    {
      "cell_type": "code",
      "metadata": {
        "id": "frMxiMOInebL"
      },
      "source": [
        "#Getting input data into format of pandas dataframe for easier analysis and input into model\r\n",
        "examples = pd.DataFrame()\r\n",
        "for player in stats_dict.keys():\r\n",
        "\r\n",
        "  #We only want to include players who have played at least 5 games in each of the last five seasons and remove goalies\r\n",
        "  if any([((len(x) == 0) or (x[0]['stat']['games'] < 5)) for x in stats_dict[player]]) or position_dict[player] == 'Goalie':\r\n",
        "    continue\r\n",
        "\r\n",
        "  #Our dataframe will have the age of each player as well as their points/game and shot percentage over the last five seasons\r\n",
        "  examples = examples.append({'player_id':player,\r\n",
        "                              'age': ages_dict[player],\r\n",
        "                              'position': position_dict[player],\r\n",
        "                              'nationality' : nationality_dict[player],\r\n",
        "                              '20152016p/g': stats_dict[player][0][0]['stat']['points']/stats_dict[player][0][0]['stat']['games'],\r\n",
        "                              '20152016Pct': stats_dict[player][0][0]['stat']['shotPct'],\r\n",
        "                              '20162017p/g': stats_dict[player][1][0]['stat']['points']/stats_dict[player][1][0]['stat']['games'],\r\n",
        "                              '20162017Pct': stats_dict[player][1][0]['stat']['shotPct'],                              \r\n",
        "                              '20172018p/g': stats_dict[player][2][0]['stat']['points']/stats_dict[player][2][0]['stat']['games'],\r\n",
        "                              '20172018Pct': stats_dict[player][2][0]['stat']['shotPct'],\r\n",
        "                              '20182019p/g': stats_dict[player][3][0]['stat']['points']/stats_dict[player][3][0]['stat']['games'],\r\n",
        "                              '20182019Pct': stats_dict[player][3][0]['stat']['shotPct'],\r\n",
        "                              '20192020p/g': stats_dict[player][4][0]['stat']['points']/stats_dict[player][4][0]['stat']['games']},ignore_index=True)\r\n",
        "  \r\n",
        "#We will use player_id for the index of our dataframe since it is a unique identifier\r\n",
        "examples.set_index('player_id',inplace=True)"
      ],
      "execution_count": 603,
      "outputs": []
    },
    {
      "cell_type": "code",
      "metadata": {
        "id": "4a_h5b9H9FR8"
      },
      "source": [
        "#Make copy in case of error\r\n",
        "orig_examples= examples.copy(deep=True)"
      ],
      "execution_count": 597,
      "outputs": []
    },
    {
      "cell_type": "code",
      "metadata": {
        "colab": {
          "base_uri": "https://localhost:8080/",
          "height": 294
        },
        "id": "hY8xyeOr7Hvp",
        "outputId": "e95df543-c31d-4671-8e41-13cd1aab4b0b"
      },
      "source": [
        "#Inital look at data\r\n",
        "examples.describe()"
      ],
      "execution_count": 607,
      "outputs": [
        {
          "output_type": "execute_result",
          "data": {
            "text/html": [
              "<div>\n",
              "<style scoped>\n",
              "    .dataframe tbody tr th:only-of-type {\n",
              "        vertical-align: middle;\n",
              "    }\n",
              "\n",
              "    .dataframe tbody tr th {\n",
              "        vertical-align: top;\n",
              "    }\n",
              "\n",
              "    .dataframe thead th {\n",
              "        text-align: right;\n",
              "    }\n",
              "</style>\n",
              "<table border=\"1\" class=\"dataframe\">\n",
              "  <thead>\n",
              "    <tr style=\"text-align: right;\">\n",
              "      <th></th>\n",
              "      <th>20152016Pct</th>\n",
              "      <th>20152016p/g</th>\n",
              "      <th>20162017Pct</th>\n",
              "      <th>20162017p/g</th>\n",
              "      <th>20172018Pct</th>\n",
              "      <th>20172018p/g</th>\n",
              "      <th>20182019Pct</th>\n",
              "      <th>20182019p/g</th>\n",
              "      <th>20192020p/g</th>\n",
              "      <th>age</th>\n",
              "    </tr>\n",
              "  </thead>\n",
              "  <tbody>\n",
              "    <tr>\n",
              "      <th>count</th>\n",
              "      <td>358.000000</td>\n",
              "      <td>358.000000</td>\n",
              "      <td>358.000000</td>\n",
              "      <td>358.000000</td>\n",
              "      <td>358.000000</td>\n",
              "      <td>358.000000</td>\n",
              "      <td>358.000000</td>\n",
              "      <td>358.000000</td>\n",
              "      <td>358.000000</td>\n",
              "      <td>358.000000</td>\n",
              "    </tr>\n",
              "    <tr>\n",
              "      <th>mean</th>\n",
              "      <td>8.875140</td>\n",
              "      <td>0.452971</td>\n",
              "      <td>8.653771</td>\n",
              "      <td>0.468005</td>\n",
              "      <td>8.945670</td>\n",
              "      <td>0.505453</td>\n",
              "      <td>8.911229</td>\n",
              "      <td>0.507049</td>\n",
              "      <td>0.485896</td>\n",
              "      <td>29.611732</td>\n",
              "    </tr>\n",
              "    <tr>\n",
              "      <th>std</th>\n",
              "      <td>5.089786</td>\n",
              "      <td>0.251677</td>\n",
              "      <td>4.654517</td>\n",
              "      <td>0.248394</td>\n",
              "      <td>4.445031</td>\n",
              "      <td>0.272010</td>\n",
              "      <td>4.801748</td>\n",
              "      <td>0.283596</td>\n",
              "      <td>0.283200</td>\n",
              "      <td>3.336006</td>\n",
              "    </tr>\n",
              "    <tr>\n",
              "      <th>min</th>\n",
              "      <td>0.000000</td>\n",
              "      <td>0.000000</td>\n",
              "      <td>0.000000</td>\n",
              "      <td>0.000000</td>\n",
              "      <td>0.000000</td>\n",
              "      <td>0.000000</td>\n",
              "      <td>0.000000</td>\n",
              "      <td>0.000000</td>\n",
              "      <td>0.000000</td>\n",
              "      <td>23.000000</td>\n",
              "    </tr>\n",
              "    <tr>\n",
              "      <th>25%</th>\n",
              "      <td>5.477500</td>\n",
              "      <td>0.253254</td>\n",
              "      <td>5.000000</td>\n",
              "      <td>0.265885</td>\n",
              "      <td>5.665000</td>\n",
              "      <td>0.278714</td>\n",
              "      <td>5.135000</td>\n",
              "      <td>0.292402</td>\n",
              "      <td>0.263406</td>\n",
              "      <td>27.000000</td>\n",
              "    </tr>\n",
              "    <tr>\n",
              "      <th>50%</th>\n",
              "      <td>8.745000</td>\n",
              "      <td>0.431363</td>\n",
              "      <td>8.565000</td>\n",
              "      <td>0.450000</td>\n",
              "      <td>8.805000</td>\n",
              "      <td>0.463415</td>\n",
              "      <td>8.900000</td>\n",
              "      <td>0.455536</td>\n",
              "      <td>0.437500</td>\n",
              "      <td>29.000000</td>\n",
              "    </tr>\n",
              "    <tr>\n",
              "      <th>75%</th>\n",
              "      <td>12.292500</td>\n",
              "      <td>0.627404</td>\n",
              "      <td>11.912500</td>\n",
              "      <td>0.651970</td>\n",
              "      <td>12.395000</td>\n",
              "      <td>0.683390</td>\n",
              "      <td>12.352500</td>\n",
              "      <td>0.678534</td>\n",
              "      <td>0.647680</td>\n",
              "      <td>32.000000</td>\n",
              "    </tr>\n",
              "    <tr>\n",
              "      <th>max</th>\n",
              "      <td>40.000000</td>\n",
              "      <td>1.292683</td>\n",
              "      <td>23.080000</td>\n",
              "      <td>1.219512</td>\n",
              "      <td>23.370000</td>\n",
              "      <td>1.317073</td>\n",
              "      <td>22.220000</td>\n",
              "      <td>1.487179</td>\n",
              "      <td>1.549296</td>\n",
              "      <td>43.000000</td>\n",
              "    </tr>\n",
              "  </tbody>\n",
              "</table>\n",
              "</div>"
            ],
            "text/plain": [
              "       20152016Pct  20152016p/g  ...  20192020p/g         age\n",
              "count   358.000000   358.000000  ...   358.000000  358.000000\n",
              "mean      8.875140     0.452971  ...     0.485896   29.611732\n",
              "std       5.089786     0.251677  ...     0.283200    3.336006\n",
              "min       0.000000     0.000000  ...     0.000000   23.000000\n",
              "25%       5.477500     0.253254  ...     0.263406   27.000000\n",
              "50%       8.745000     0.431363  ...     0.437500   29.000000\n",
              "75%      12.292500     0.627404  ...     0.647680   32.000000\n",
              "max      40.000000     1.292683  ...     1.549296   43.000000\n",
              "\n",
              "[8 rows x 10 columns]"
            ]
          },
          "metadata": {
            "tags": []
          },
          "execution_count": 607
        }
      ]
    },
    {
      "cell_type": "markdown",
      "metadata": {
        "id": "TZ1bNAu5J9qc"
      },
      "source": [
        "####Quick Looks"
      ]
    },
    {
      "cell_type": "code",
      "metadata": {
        "colab": {
          "base_uri": "https://localhost:8080/",
          "height": 778
        },
        "id": "IoCyvtIqIptY",
        "outputId": "4f43319b-bc7c-435c-b557-148ab69ddab3"
      },
      "source": [
        "examples['20182019p/g'].hist()\r\n",
        "plt.show()\r\n",
        "examples['20182019Pct'].hist()\r\n",
        "plt.show()\r\n",
        "examples['age'].hist()"
      ],
      "execution_count": 601,
      "outputs": [
        {
          "output_type": "display_data",
          "data": {
            "image/png": "[encoded data removed]",
            "text/plain": [
              "<Figure size 432x288 with 1 Axes>"
            ]
          },
          "metadata": {
            "tags": [],
            "needs_background": "light"
          }
        },
        {
          "output_type": "display_data",
          "data": {
            "image/png": "[encoded data removed]",
            "text/plain": [
              "<Figure size 432x288 with 1 Axes>"
            ]
          },
          "metadata": {
            "tags": [],
            "needs_background": "light"
          }
        },
        {
          "output_type": "execute_result",
          "data": {
            "text/plain": [
              "<matplotlib.axes._subplots.AxesSubplot at 0x7fb43ddadc50>"
            ]
          },
          "metadata": {
            "tags": []
          },
          "execution_count": 601
        },
        {
          "output_type": "display_data",
          "data": {
            "image/png": "[encoded data removed]",
            "text/plain": [
              "<Figure size 432x288 with 1 Axes>"
            ]
          },
          "metadata": {
            "tags": [],
            "needs_background": "light"
          }
        }
      ]
    },
    {
      "cell_type": "code",
      "metadata": {
        "colab": {
          "base_uri": "https://localhost:8080/"
        },
        "id": "JSv8iduTJVrc",
        "outputId": "b1ddffd7-6813-427e-e45a-953385a49e83"
      },
      "source": [
        "examples['position'].value_counts()"
      ],
      "execution_count": 608,
      "outputs": [
        {
          "output_type": "execute_result",
          "data": {
            "text/plain": [
              "Forward       232\n",
              "Defenseman    126\n",
              "Name: position, dtype: int64"
            ]
          },
          "metadata": {
            "tags": []
          },
          "execution_count": 608
        }
      ]
    },
    {
      "cell_type": "code",
      "metadata": {
        "colab": {
          "base_uri": "https://localhost:8080/"
        },
        "id": "HKCmUjhKJx4I",
        "outputId": "b4c3ecda-2e6a-48e0-f14b-597003f6a1a8"
      },
      "source": [
        "examples['nationality'].value_counts()"
      ],
      "execution_count": 609,
      "outputs": [
        {
          "output_type": "execute_result",
          "data": {
            "text/plain": [
              "CAN    174\n",
              "USA     91\n",
              "SWE     39\n",
              "FIN     14\n",
              "RUS     10\n",
              "CZE      9\n",
              "CHE      4\n",
              "DNK      4\n",
              "SVK      4\n",
              "FRA      3\n",
              "DEU      2\n",
              "NOR      1\n",
              "LVA      1\n",
              "SVN      1\n",
              "AUT      1\n",
              "Name: nationality, dtype: int64"
            ]
          },
          "metadata": {
            "tags": []
          },
          "execution_count": 609
        }
      ]
    },
    {
      "cell_type": "markdown",
      "metadata": {
        "id": "wjs6THzfJ2bb"
      },
      "source": [
        "####Creating Features"
      ]
    },
    {
      "cell_type": "code",
      "metadata": {
        "id": "3I7vNcvT71LO"
      },
      "source": [
        "#Creating variable indicating if player is from North America or Europe\r\n",
        "examples['continent'] = examples['nationality'].map(lambda x:'NA' if x in ['CAN','USA'] else \"EUR\")\r\n",
        "\r\n",
        "#Remove inital nationality varaible\r\n",
        "examples.drop(columns=['nationality'],inplace=True)\r\n",
        "\r\n",
        "#Creating dummy variables to indicate player position and continent\r\n",
        "examples = pd.get_dummies(examples,columns=['position','continent'])"
      ],
      "execution_count": 82,
      "outputs": []
    },
    {
      "cell_type": "code",
      "metadata": {
        "colab": {
          "base_uri": "https://localhost:8080/",
          "height": 110
        },
        "id": "FVHTL1m-9pfD",
        "outputId": "abab6fdd-d65d-4c74-9b4f-e552cdc47715"
      },
      "source": [
        "#Taking a peak at where were at\r\n",
        "examples.head(1)"
      ],
      "execution_count": 83,
      "outputs": [
        {
          "output_type": "execute_result",
          "data": {
            "text/html": [
              "<div>\n",
              "<style scoped>\n",
              "    .dataframe tbody tr th:only-of-type {\n",
              "        vertical-align: middle;\n",
              "    }\n",
              "\n",
              "    .dataframe tbody tr th {\n",
              "        vertical-align: top;\n",
              "    }\n",
              "\n",
              "    .dataframe thead th {\n",
              "        text-align: right;\n",
              "    }\n",
              "</style>\n",
              "<table border=\"1\" class=\"dataframe\">\n",
              "  <thead>\n",
              "    <tr style=\"text-align: right;\">\n",
              "      <th></th>\n",
              "      <th>20152016Pct</th>\n",
              "      <th>20152016p/g</th>\n",
              "      <th>20162017Pct</th>\n",
              "      <th>20162017p/g</th>\n",
              "      <th>20172018Pct</th>\n",
              "      <th>20172018p/g</th>\n",
              "      <th>20182019Pct</th>\n",
              "      <th>20182019p/g</th>\n",
              "      <th>20192020p/g</th>\n",
              "      <th>age</th>\n",
              "      <th>position_Defenseman</th>\n",
              "      <th>position_Forward</th>\n",
              "      <th>continent_EUR</th>\n",
              "      <th>continent_NA</th>\n",
              "    </tr>\n",
              "    <tr>\n",
              "      <th>player_id</th>\n",
              "      <th></th>\n",
              "      <th></th>\n",
              "      <th></th>\n",
              "      <th></th>\n",
              "      <th></th>\n",
              "      <th></th>\n",
              "      <th></th>\n",
              "      <th></th>\n",
              "      <th></th>\n",
              "      <th></th>\n",
              "      <th></th>\n",
              "      <th></th>\n",
              "      <th></th>\n",
              "      <th></th>\n",
              "    </tr>\n",
              "  </thead>\n",
              "  <tbody>\n",
              "    <tr>\n",
              "      <th>8474641.0</th>\n",
              "      <td>20.13</td>\n",
              "      <td>0.625</td>\n",
              "      <td>14.08</td>\n",
              "      <td>0.487805</td>\n",
              "      <td>15.89</td>\n",
              "      <td>0.617284</td>\n",
              "      <td>14.75</td>\n",
              "      <td>0.512195</td>\n",
              "      <td>0.605634</td>\n",
              "      <td>30.0</td>\n",
              "      <td>0</td>\n",
              "      <td>1</td>\n",
              "      <td>0</td>\n",
              "      <td>1</td>\n",
              "    </tr>\n",
              "  </tbody>\n",
              "</table>\n",
              "</div>"
            ],
            "text/plain": [
              "           20152016Pct  20152016p/g  ...  continent_EUR  continent_NA\n",
              "player_id                            ...                             \n",
              "8474641.0        20.13        0.625  ...              0             1\n",
              "\n",
              "[1 rows x 14 columns]"
            ]
          },
          "metadata": {
            "tags": []
          },
          "execution_count": 83
        }
      ]
    },
    {
      "cell_type": "code",
      "metadata": {
        "id": "MzaufCBc91fS"
      },
      "source": [
        "#Perform XScale necessary columns between 0 and 1\r\n",
        "stats_to_scale = ['20152016Pct','20152016p/g','20162017Pct','20162017p/g','20172018Pct','20172018p/g','20182019Pct','20182019p/g','20192020p/g','age']\r\n",
        "scalers = {stat : MinMaxScaler() for stat in stats_to_scale}\r\n",
        "for stat in scalers.keys():\r\n",
        "  examples[[stat]] = scalers[stat].fit_transform(examples[[stat]])"
      ],
      "execution_count": 84,
      "outputs": []
    },
    {
      "cell_type": "markdown",
      "metadata": {
        "id": "XsaGaP8qIQ1P"
      },
      "source": [
        "####Final looks at data"
      ]
    },
    {
      "cell_type": "code",
      "metadata": {
        "colab": {
          "base_uri": "https://localhost:8080/",
          "height": 294
        },
        "id": "foO6smBOAzyJ",
        "outputId": "c26fc6d0-15f4-46b7-b03d-7425dda346b0"
      },
      "source": [
        "examples.describe()"
      ],
      "execution_count": 593,
      "outputs": [
        {
          "output_type": "execute_result",
          "data": {
            "text/html": [
              "<div>\n",
              "<style scoped>\n",
              "    .dataframe tbody tr th:only-of-type {\n",
              "        vertical-align: middle;\n",
              "    }\n",
              "\n",
              "    .dataframe tbody tr th {\n",
              "        vertical-align: top;\n",
              "    }\n",
              "\n",
              "    .dataframe thead th {\n",
              "        text-align: right;\n",
              "    }\n",
              "</style>\n",
              "<table border=\"1\" class=\"dataframe\">\n",
              "  <thead>\n",
              "    <tr style=\"text-align: right;\">\n",
              "      <th></th>\n",
              "      <th>20152016Pct</th>\n",
              "      <th>20152016p/g</th>\n",
              "      <th>20162017Pct</th>\n",
              "      <th>20162017p/g</th>\n",
              "      <th>20172018Pct</th>\n",
              "      <th>20172018p/g</th>\n",
              "      <th>20182019Pct</th>\n",
              "      <th>20182019p/g</th>\n",
              "      <th>20192020p/g</th>\n",
              "      <th>age</th>\n",
              "      <th>position_Defenseman</th>\n",
              "      <th>position_Forward</th>\n",
              "      <th>continent_EUR</th>\n",
              "      <th>continent_NA</th>\n",
              "    </tr>\n",
              "  </thead>\n",
              "  <tbody>\n",
              "    <tr>\n",
              "      <th>count</th>\n",
              "      <td>358.000000</td>\n",
              "      <td>358.000000</td>\n",
              "      <td>358.000000</td>\n",
              "      <td>358.000000</td>\n",
              "      <td>358.000000</td>\n",
              "      <td>358.000000</td>\n",
              "      <td>358.000000</td>\n",
              "      <td>358.000000</td>\n",
              "      <td>358.000000</td>\n",
              "      <td>358.000000</td>\n",
              "      <td>358.000000</td>\n",
              "      <td>358.000000</td>\n",
              "      <td>358.000000</td>\n",
              "      <td>358.000000</td>\n",
              "    </tr>\n",
              "    <tr>\n",
              "      <th>mean</th>\n",
              "      <td>0.221878</td>\n",
              "      <td>0.350412</td>\n",
              "      <td>0.374947</td>\n",
              "      <td>0.383764</td>\n",
              "      <td>0.382784</td>\n",
              "      <td>0.383770</td>\n",
              "      <td>0.401045</td>\n",
              "      <td>0.340947</td>\n",
              "      <td>0.313624</td>\n",
              "      <td>0.330587</td>\n",
              "      <td>0.351955</td>\n",
              "      <td>0.648045</td>\n",
              "      <td>0.259777</td>\n",
              "      <td>0.740223</td>\n",
              "    </tr>\n",
              "    <tr>\n",
              "      <th>std</th>\n",
              "      <td>0.127245</td>\n",
              "      <td>0.194693</td>\n",
              "      <td>0.201669</td>\n",
              "      <td>0.203683</td>\n",
              "      <td>0.190202</td>\n",
              "      <td>0.206526</td>\n",
              "      <td>0.216100</td>\n",
              "      <td>0.190694</td>\n",
              "      <td>0.182792</td>\n",
              "      <td>0.166800</td>\n",
              "      <td>0.478249</td>\n",
              "      <td>0.478249</td>\n",
              "      <td>0.439126</td>\n",
              "      <td>0.439126</td>\n",
              "    </tr>\n",
              "    <tr>\n",
              "      <th>min</th>\n",
              "      <td>0.000000</td>\n",
              "      <td>0.000000</td>\n",
              "      <td>0.000000</td>\n",
              "      <td>0.000000</td>\n",
              "      <td>0.000000</td>\n",
              "      <td>0.000000</td>\n",
              "      <td>0.000000</td>\n",
              "      <td>0.000000</td>\n",
              "      <td>0.000000</td>\n",
              "      <td>0.000000</td>\n",
              "      <td>0.000000</td>\n",
              "      <td>0.000000</td>\n",
              "      <td>0.000000</td>\n",
              "      <td>0.000000</td>\n",
              "    </tr>\n",
              "    <tr>\n",
              "      <th>25%</th>\n",
              "      <td>0.136938</td>\n",
              "      <td>0.195913</td>\n",
              "      <td>0.216638</td>\n",
              "      <td>0.218026</td>\n",
              "      <td>0.242405</td>\n",
              "      <td>0.211616</td>\n",
              "      <td>0.231098</td>\n",
              "      <td>0.196615</td>\n",
              "      <td>0.170017</td>\n",
              "      <td>0.200000</td>\n",
              "      <td>0.000000</td>\n",
              "      <td>0.000000</td>\n",
              "      <td>0.000000</td>\n",
              "      <td>0.000000</td>\n",
              "    </tr>\n",
              "    <tr>\n",
              "      <th>50%</th>\n",
              "      <td>0.218625</td>\n",
              "      <td>0.333696</td>\n",
              "      <td>0.371101</td>\n",
              "      <td>0.369000</td>\n",
              "      <td>0.376765</td>\n",
              "      <td>0.351852</td>\n",
              "      <td>0.400540</td>\n",
              "      <td>0.306308</td>\n",
              "      <td>0.282386</td>\n",
              "      <td>0.300000</td>\n",
              "      <td>0.000000</td>\n",
              "      <td>1.000000</td>\n",
              "      <td>0.000000</td>\n",
              "      <td>1.000000</td>\n",
              "    </tr>\n",
              "    <tr>\n",
              "      <th>75%</th>\n",
              "      <td>0.307312</td>\n",
              "      <td>0.485350</td>\n",
              "      <td>0.516140</td>\n",
              "      <td>0.534615</td>\n",
              "      <td>0.530381</td>\n",
              "      <td>0.518870</td>\n",
              "      <td>0.555918</td>\n",
              "      <td>0.456256</td>\n",
              "      <td>0.418048</td>\n",
              "      <td>0.450000</td>\n",
              "      <td>1.000000</td>\n",
              "      <td>1.000000</td>\n",
              "      <td>1.000000</td>\n",
              "      <td>1.000000</td>\n",
              "    </tr>\n",
              "    <tr>\n",
              "      <th>max</th>\n",
              "      <td>1.000000</td>\n",
              "      <td>1.000000</td>\n",
              "      <td>1.000000</td>\n",
              "      <td>1.000000</td>\n",
              "      <td>1.000000</td>\n",
              "      <td>1.000000</td>\n",
              "      <td>1.000000</td>\n",
              "      <td>1.000000</td>\n",
              "      <td>1.000000</td>\n",
              "      <td>1.000000</td>\n",
              "      <td>1.000000</td>\n",
              "      <td>1.000000</td>\n",
              "      <td>1.000000</td>\n",
              "      <td>1.000000</td>\n",
              "    </tr>\n",
              "  </tbody>\n",
              "</table>\n",
              "</div>"
            ],
            "text/plain": [
              "       20152016Pct  20152016p/g  ...  continent_EUR  continent_NA\n",
              "count   358.000000   358.000000  ...     358.000000    358.000000\n",
              "mean      0.221878     0.350412  ...       0.259777      0.740223\n",
              "std       0.127245     0.194693  ...       0.439126      0.439126\n",
              "min       0.000000     0.000000  ...       0.000000      0.000000\n",
              "25%       0.136938     0.195913  ...       0.000000      0.000000\n",
              "50%       0.218625     0.333696  ...       0.000000      1.000000\n",
              "75%       0.307312     0.485350  ...       1.000000      1.000000\n",
              "max       1.000000     1.000000  ...       1.000000      1.000000\n",
              "\n",
              "[8 rows x 14 columns]"
            ]
          },
          "metadata": {
            "tags": []
          },
          "execution_count": 593
        }
      ]
    },
    {
      "cell_type": "code",
      "metadata": {
        "colab": {
          "base_uri": "https://localhost:8080/",
          "height": 478
        },
        "id": "q36pdkdFHIKE",
        "outputId": "b7de4078-9665-4121-e47e-e6ef8b4d6261"
      },
      "source": [
        "examples.corr()"
      ],
      "execution_count": 592,
      "outputs": [
        {
          "output_type": "execute_result",
          "data": {
            "text/html": [
              "<div>\n",
              "<style scoped>\n",
              "    .dataframe tbody tr th:only-of-type {\n",
              "        vertical-align: middle;\n",
              "    }\n",
              "\n",
              "    .dataframe tbody tr th {\n",
              "        vertical-align: top;\n",
              "    }\n",
              "\n",
              "    .dataframe thead th {\n",
              "        text-align: right;\n",
              "    }\n",
              "</style>\n",
              "<table border=\"1\" class=\"dataframe\">\n",
              "  <thead>\n",
              "    <tr style=\"text-align: right;\">\n",
              "      <th></th>\n",
              "      <th>20152016Pct</th>\n",
              "      <th>20152016p/g</th>\n",
              "      <th>20162017Pct</th>\n",
              "      <th>20162017p/g</th>\n",
              "      <th>20172018Pct</th>\n",
              "      <th>20172018p/g</th>\n",
              "      <th>20182019Pct</th>\n",
              "      <th>20182019p/g</th>\n",
              "      <th>20192020p/g</th>\n",
              "      <th>age</th>\n",
              "      <th>position_Defenseman</th>\n",
              "      <th>position_Forward</th>\n",
              "      <th>continent_EUR</th>\n",
              "      <th>continent_NA</th>\n",
              "    </tr>\n",
              "  </thead>\n",
              "  <tbody>\n",
              "    <tr>\n",
              "      <th>20152016Pct</th>\n",
              "      <td>1.000000</td>\n",
              "      <td>0.533074</td>\n",
              "      <td>0.535331</td>\n",
              "      <td>0.478014</td>\n",
              "      <td>0.446117</td>\n",
              "      <td>0.373788</td>\n",
              "      <td>0.488132</td>\n",
              "      <td>0.364189</td>\n",
              "      <td>0.362410</td>\n",
              "      <td>0.098328</td>\n",
              "      <td>-0.567947</td>\n",
              "      <td>0.567947</td>\n",
              "      <td>0.037776</td>\n",
              "      <td>-0.037776</td>\n",
              "    </tr>\n",
              "    <tr>\n",
              "      <th>20152016p/g</th>\n",
              "      <td>0.533074</td>\n",
              "      <td>1.000000</td>\n",
              "      <td>0.420551</td>\n",
              "      <td>0.801321</td>\n",
              "      <td>0.359418</td>\n",
              "      <td>0.750088</td>\n",
              "      <td>0.379261</td>\n",
              "      <td>0.692597</td>\n",
              "      <td>0.627578</td>\n",
              "      <td>0.256034</td>\n",
              "      <td>-0.310834</td>\n",
              "      <td>0.310834</td>\n",
              "      <td>0.064198</td>\n",
              "      <td>-0.064198</td>\n",
              "    </tr>\n",
              "    <tr>\n",
              "      <th>20162017Pct</th>\n",
              "      <td>0.535331</td>\n",
              "      <td>0.420551</td>\n",
              "      <td>1.000000</td>\n",
              "      <td>0.620667</td>\n",
              "      <td>0.591377</td>\n",
              "      <td>0.468460</td>\n",
              "      <td>0.596147</td>\n",
              "      <td>0.460681</td>\n",
              "      <td>0.438626</td>\n",
              "      <td>0.086904</td>\n",
              "      <td>-0.606144</td>\n",
              "      <td>0.606144</td>\n",
              "      <td>0.058641</td>\n",
              "      <td>-0.058641</td>\n",
              "    </tr>\n",
              "    <tr>\n",
              "      <th>20162017p/g</th>\n",
              "      <td>0.478014</td>\n",
              "      <td>0.801321</td>\n",
              "      <td>0.620667</td>\n",
              "      <td>1.000000</td>\n",
              "      <td>0.419184</td>\n",
              "      <td>0.801349</td>\n",
              "      <td>0.464624</td>\n",
              "      <td>0.761033</td>\n",
              "      <td>0.709142</td>\n",
              "      <td>0.148393</td>\n",
              "      <td>-0.357061</td>\n",
              "      <td>0.357061</td>\n",
              "      <td>0.057570</td>\n",
              "      <td>-0.057570</td>\n",
              "    </tr>\n",
              "    <tr>\n",
              "      <th>20172018Pct</th>\n",
              "      <td>0.446117</td>\n",
              "      <td>0.359418</td>\n",
              "      <td>0.591377</td>\n",
              "      <td>0.419184</td>\n",
              "      <td>1.000000</td>\n",
              "      <td>0.568436</td>\n",
              "      <td>0.626232</td>\n",
              "      <td>0.480598</td>\n",
              "      <td>0.510164</td>\n",
              "      <td>-0.016610</td>\n",
              "      <td>-0.699130</td>\n",
              "      <td>0.699130</td>\n",
              "      <td>0.086466</td>\n",
              "      <td>-0.086466</td>\n",
              "    </tr>\n",
              "    <tr>\n",
              "      <th>20172018p/g</th>\n",
              "      <td>0.373788</td>\n",
              "      <td>0.750088</td>\n",
              "      <td>0.468460</td>\n",
              "      <td>0.801349</td>\n",
              "      <td>0.568436</td>\n",
              "      <td>1.000000</td>\n",
              "      <td>0.462469</td>\n",
              "      <td>0.845980</td>\n",
              "      <td>0.793329</td>\n",
              "      <td>0.033504</td>\n",
              "      <td>-0.353861</td>\n",
              "      <td>0.353861</td>\n",
              "      <td>0.062254</td>\n",
              "      <td>-0.062254</td>\n",
              "    </tr>\n",
              "    <tr>\n",
              "      <th>20182019Pct</th>\n",
              "      <td>0.488132</td>\n",
              "      <td>0.379261</td>\n",
              "      <td>0.596147</td>\n",
              "      <td>0.464624</td>\n",
              "      <td>0.626232</td>\n",
              "      <td>0.462469</td>\n",
              "      <td>1.000000</td>\n",
              "      <td>0.621308</td>\n",
              "      <td>0.528544</td>\n",
              "      <td>-0.039694</td>\n",
              "      <td>-0.675272</td>\n",
              "      <td>0.675272</td>\n",
              "      <td>0.020094</td>\n",
              "      <td>-0.020094</td>\n",
              "    </tr>\n",
              "    <tr>\n",
              "      <th>20182019p/g</th>\n",
              "      <td>0.364189</td>\n",
              "      <td>0.692597</td>\n",
              "      <td>0.460681</td>\n",
              "      <td>0.761033</td>\n",
              "      <td>0.480598</td>\n",
              "      <td>0.845980</td>\n",
              "      <td>0.621308</td>\n",
              "      <td>1.000000</td>\n",
              "      <td>0.831181</td>\n",
              "      <td>-0.050438</td>\n",
              "      <td>-0.356102</td>\n",
              "      <td>0.356102</td>\n",
              "      <td>0.065081</td>\n",
              "      <td>-0.065081</td>\n",
              "    </tr>\n",
              "    <tr>\n",
              "      <th>20192020p/g</th>\n",
              "      <td>0.362410</td>\n",
              "      <td>0.627578</td>\n",
              "      <td>0.438626</td>\n",
              "      <td>0.709142</td>\n",
              "      <td>0.510164</td>\n",
              "      <td>0.793329</td>\n",
              "      <td>0.528544</td>\n",
              "      <td>0.831181</td>\n",
              "      <td>1.000000</td>\n",
              "      <td>-0.151591</td>\n",
              "      <td>-0.368014</td>\n",
              "      <td>0.368014</td>\n",
              "      <td>0.128810</td>\n",
              "      <td>-0.128810</td>\n",
              "    </tr>\n",
              "    <tr>\n",
              "      <th>age</th>\n",
              "      <td>0.098328</td>\n",
              "      <td>0.256034</td>\n",
              "      <td>0.086904</td>\n",
              "      <td>0.148393</td>\n",
              "      <td>-0.016610</td>\n",
              "      <td>0.033504</td>\n",
              "      <td>-0.039694</td>\n",
              "      <td>-0.050438</td>\n",
              "      <td>-0.151591</td>\n",
              "      <td>1.000000</td>\n",
              "      <td>0.034977</td>\n",
              "      <td>-0.034977</td>\n",
              "      <td>-0.068628</td>\n",
              "      <td>0.068628</td>\n",
              "    </tr>\n",
              "    <tr>\n",
              "      <th>position_Defenseman</th>\n",
              "      <td>-0.567947</td>\n",
              "      <td>-0.310834</td>\n",
              "      <td>-0.606144</td>\n",
              "      <td>-0.357061</td>\n",
              "      <td>-0.699130</td>\n",
              "      <td>-0.353861</td>\n",
              "      <td>-0.675272</td>\n",
              "      <td>-0.356102</td>\n",
              "      <td>-0.368014</td>\n",
              "      <td>0.034977</td>\n",
              "      <td>1.000000</td>\n",
              "      <td>-1.000000</td>\n",
              "      <td>-0.103127</td>\n",
              "      <td>0.103127</td>\n",
              "    </tr>\n",
              "    <tr>\n",
              "      <th>position_Forward</th>\n",
              "      <td>0.567947</td>\n",
              "      <td>0.310834</td>\n",
              "      <td>0.606144</td>\n",
              "      <td>0.357061</td>\n",
              "      <td>0.699130</td>\n",
              "      <td>0.353861</td>\n",
              "      <td>0.675272</td>\n",
              "      <td>0.356102</td>\n",
              "      <td>0.368014</td>\n",
              "      <td>-0.034977</td>\n",
              "      <td>-1.000000</td>\n",
              "      <td>1.000000</td>\n",
              "      <td>0.103127</td>\n",
              "      <td>-0.103127</td>\n",
              "    </tr>\n",
              "    <tr>\n",
              "      <th>continent_EUR</th>\n",
              "      <td>0.037776</td>\n",
              "      <td>0.064198</td>\n",
              "      <td>0.058641</td>\n",
              "      <td>0.057570</td>\n",
              "      <td>0.086466</td>\n",
              "      <td>0.062254</td>\n",
              "      <td>0.020094</td>\n",
              "      <td>0.065081</td>\n",
              "      <td>0.128810</td>\n",
              "      <td>-0.068628</td>\n",
              "      <td>-0.103127</td>\n",
              "      <td>0.103127</td>\n",
              "      <td>1.000000</td>\n",
              "      <td>-1.000000</td>\n",
              "    </tr>\n",
              "    <tr>\n",
              "      <th>continent_NA</th>\n",
              "      <td>-0.037776</td>\n",
              "      <td>-0.064198</td>\n",
              "      <td>-0.058641</td>\n",
              "      <td>-0.057570</td>\n",
              "      <td>-0.086466</td>\n",
              "      <td>-0.062254</td>\n",
              "      <td>-0.020094</td>\n",
              "      <td>-0.065081</td>\n",
              "      <td>-0.128810</td>\n",
              "      <td>0.068628</td>\n",
              "      <td>0.103127</td>\n",
              "      <td>-0.103127</td>\n",
              "      <td>-1.000000</td>\n",
              "      <td>1.000000</td>\n",
              "    </tr>\n",
              "  </tbody>\n",
              "</table>\n",
              "</div>"
            ],
            "text/plain": [
              "                     20152016Pct  20152016p/g  ...  continent_EUR  continent_NA\n",
              "20152016Pct             1.000000     0.533074  ...       0.037776     -0.037776\n",
              "20152016p/g             0.533074     1.000000  ...       0.064198     -0.064198\n",
              "20162017Pct             0.535331     0.420551  ...       0.058641     -0.058641\n",
              "20162017p/g             0.478014     0.801321  ...       0.057570     -0.057570\n",
              "20172018Pct             0.446117     0.359418  ...       0.086466     -0.086466\n",
              "20172018p/g             0.373788     0.750088  ...       0.062254     -0.062254\n",
              "20182019Pct             0.488132     0.379261  ...       0.020094     -0.020094\n",
              "20182019p/g             0.364189     0.692597  ...       0.065081     -0.065081\n",
              "20192020p/g             0.362410     0.627578  ...       0.128810     -0.128810\n",
              "age                     0.098328     0.256034  ...      -0.068628      0.068628\n",
              "position_Defenseman    -0.567947    -0.310834  ...      -0.103127      0.103127\n",
              "position_Forward        0.567947     0.310834  ...       0.103127     -0.103127\n",
              "continent_EUR           0.037776     0.064198  ...       1.000000     -1.000000\n",
              "continent_NA           -0.037776    -0.064198  ...      -1.000000      1.000000\n",
              "\n",
              "[14 rows x 14 columns]"
            ]
          },
          "metadata": {
            "tags": []
          },
          "execution_count": 592
        }
      ]
    },
    {
      "cell_type": "code",
      "metadata": {
        "colab": {
          "base_uri": "https://localhost:8080/",
          "height": 282
        },
        "id": "Nb6vEroTGfwF",
        "outputId": "cf7ace82-3181-47cb-de13-377d622b0b0b"
      },
      "source": [
        "plt.imshow(examples.corr().to_numpy(),cmap='hot')"
      ],
      "execution_count": 591,
      "outputs": [
        {
          "output_type": "execute_result",
          "data": {
            "text/plain": [
              "<matplotlib.image.AxesImage at 0x7fb43e605588>"
            ]
          },
          "metadata": {
            "tags": []
          },
          "execution_count": 591
        },
        {
          "output_type": "display_data",
          "data": {
            "image/png": "[encoded data removed]",
            "text/plain": [
              "<Figure size 432x288 with 1 Axes>"
            ]
          },
          "metadata": {
            "tags": [],
            "needs_background": "light"
          }
        }
      ]
    },
    {
      "cell_type": "markdown",
      "metadata": {
        "id": "tTYMcz1CBv3n"
      },
      "source": [
        "###3. Model Training and Evaluation"
      ]
    },
    {
      "cell_type": "code",
      "metadata": {
        "id": "HZL7giuH02MU"
      },
      "source": [
        "#Seperating Train and Test Data\r\n",
        "y = examples['20192020p/g']\r\n",
        "X = examples.drop(columns=['20192020p/g'])\r\n",
        "X_train, X_test, y_train, y_test = train_test_split(X, y, test_size=0.2, random_state=1)"
      ],
      "execution_count": 86,
      "outputs": []
    },
    {
      "cell_type": "markdown",
      "metadata": {
        "id": "KQ6pi85MzG2z"
      },
      "source": [
        "###Linear Regression"
      ]
    },
    {
      "cell_type": "code",
      "metadata": {
        "id": "GndRXkAjxI0O"
      },
      "source": [
        "#Getting baseline performance with linear regression model\r\n",
        "from sklearn.linear_model import LinearRegression\r\n",
        "lin_model = LinearRegression().fit(X_train.to_numpy(),y_train.to_numpy())"
      ],
      "execution_count": 577,
      "outputs": []
    },
    {
      "cell_type": "code",
      "metadata": {
        "colab": {
          "base_uri": "https://localhost:8080/"
        },
        "id": "i4rg3T6CzaKJ",
        "outputId": "c20cf519-338b-42f3-ca82-0e3c3d4bf3e4"
      },
      "source": [
        "scores = cross_val_score(LinearRegression(),X_train.to_numpy(),y_train.to_numpy(),cv=5,scoring='neg_mean_squared_error')\r\n",
        "print(np.mean(scores* -1))\r\n",
        "print(np.mean((scores* -1) ** 0.5 ))"
      ],
      "execution_count": 578,
      "outputs": [
        {
          "output_type": "stream",
          "text": [
            "0.0088873175054421\n",
            "0.09292743714519958\n"
          ],
          "name": "stdout"
        }
      ]
    },
    {
      "cell_type": "code",
      "metadata": {
        "id": "GKENofdQx6mD"
      },
      "source": [
        "#Getting Model performance on test set\r\n",
        "y_pred = lin_model.predict(X_test.to_numpy())"
      ],
      "execution_count": 579,
      "outputs": []
    },
    {
      "cell_type": "code",
      "metadata": {
        "colab": {
          "base_uri": "https://localhost:8080/"
        },
        "id": "19X8uI2rxwY3",
        "outputId": "f8fd51e4-84cb-412d-ac98-bc5e0cab6cf1"
      },
      "source": [
        "print(mean_squared_error(y_test,y_pred))\r\n",
        "print(mean_absolute_error(y_test,y_pred))"
      ],
      "execution_count": 580,
      "outputs": [
        {
          "output_type": "stream",
          "text": [
            "0.00914839764946366\n",
            "0.07894002769181926\n"
          ],
          "name": "stdout"
        }
      ]
    },
    {
      "cell_type": "code",
      "metadata": {
        "id": "LjNeaO_r11I6"
      },
      "source": [
        "#Unscaling y output to get true Mean absolute error in predictiing Points/Game\r\n",
        "y_pred_unscaled = scalers['20192020p/g'].inverse_transform(y_pred.reshape(-1,1))\r\n",
        "y_test_unscaled = scalers['20192020p/g'].inverse_transform(y_test.to_numpy().reshape(-1,1))"
      ],
      "execution_count": 581,
      "outputs": []
    },
    {
      "cell_type": "code",
      "metadata": {
        "colab": {
          "base_uri": "https://localhost:8080/"
        },
        "id": "wihJasCo13Kz",
        "outputId": "6762fdc6-3c8f-4dd8-8135-b148d9e724a8"
      },
      "source": [
        "#Intuitive measure of model performance is the average magnitude of its error in predicting unscaled points per game\r\n",
        "print(mean_absolute_error(y_test_unscaled,y_pred_unscaled))\r\n",
        "print(max_error(y_test_unscaled,y_pred_unscaled))"
      ],
      "execution_count": 582,
      "outputs": [
        {
          "output_type": "stream",
          "text": [
            "0.1223014513535228\n",
            "0.37309796848066135\n"
          ],
          "name": "stdout"
        }
      ]
    },
    {
      "cell_type": "markdown",
      "metadata": {
        "id": "KMXInaetzJjy"
      },
      "source": [
        "###XGBoost"
      ]
    },
    {
      "cell_type": "code",
      "metadata": {
        "colab": {
          "base_uri": "https://localhost:8080/"
        },
        "id": "6map7__dM-vC",
        "outputId": "c996e2eb-625b-4692-a2ef-f30fa45cabb6"
      },
      "source": [
        "# Set the parameters by cross-validation\r\n",
        "tuned_parameters = [\r\n",
        "                  {'booster': ['gbtree'],\r\n",
        "                   \"n_estimators\" : [50, 100, 200, 500],\r\n",
        "                   \"learning_rate\"    : [0.02,0.05, 0.10, 0.15, 0.25 ] ,\r\n",
        "                    \"max_depth\"        : [ 3, 4, 6, 10],\r\n",
        "                    \"min_child_weight\" : [ 1, 3, 5, 7 ],\r\n",
        "                    \"gamma\"            : [ 0.0, 0.1, 0.2 ],\r\n",
        "                    \"colsample_bytree\" : [ 0.5 , 0.7, 1.0 ] },\r\n",
        "\r\n",
        "                  {'booster': ['gblinear']},\r\n",
        "                  \r\n",
        "                  ]\r\n",
        "clf = GridSearchCV(XGBRegressor(objective='reg:squarederror'), tuned_parameters, cv=3,scoring='neg_mean_squared_error',verbose=2,n_jobs=-1)\r\n",
        "clf.fit(X_train.to_numpy(), y_train.to_numpy())"
      ],
      "execution_count": 178,
      "outputs": [
        {
          "output_type": "stream",
          "text": [
            "Fitting 3 folds for each of 2881 candidates, totalling 8643 fits\n"
          ],
          "name": "stdout"
        },
        {
          "output_type": "stream",
          "text": [
            "[Parallel(n_jobs=-1)]: Using backend LokyBackend with 2 concurrent workers.\n",
            "[Parallel(n_jobs=-1)]: Done  86 tasks      | elapsed:    4.0s\n",
            "[Parallel(n_jobs=-1)]: Done 570 tasks      | elapsed:   24.9s\n",
            "[Parallel(n_jobs=-1)]: Done 1382 tasks      | elapsed:   55.8s\n",
            "[Parallel(n_jobs=-1)]: Done 2514 tasks      | elapsed:  1.8min\n",
            "[Parallel(n_jobs=-1)]: Done 3974 tasks      | elapsed:  2.9min\n",
            "[Parallel(n_jobs=-1)]: Done 5754 tasks      | elapsed:  4.6min\n",
            "[Parallel(n_jobs=-1)]: Done 7862 tasks      | elapsed:  6.7min\n",
            "[Parallel(n_jobs=-1)]: Done 8643 out of 8643 | elapsed:  7.6min finished\n"
          ],
          "name": "stderr"
        },
        {
          "output_type": "execute_result",
          "data": {
            "text/plain": [
              "GridSearchCV(cv=3, error_score=nan,\n",
              "             estimator=XGBRegressor(base_score=0.5, booster='gbtree',\n",
              "                                    colsample_bylevel=1, colsample_bynode=1,\n",
              "                                    colsample_bytree=1, gamma=0,\n",
              "                                    importance_type='gain', learning_rate=0.1,\n",
              "                                    max_delta_step=0, max_depth=3,\n",
              "                                    min_child_weight=1, missing=None,\n",
              "                                    n_estimators=100, n_jobs=1, nthread=None,\n",
              "                                    objective='reg:squarederror',\n",
              "                                    random_state=0, reg_alpha=...\n",
              "             iid='deprecated', n_jobs=-1,\n",
              "             param_grid=[{'booster': ['gbtree'],\n",
              "                          'colsample_bytree': [0.5, 0.7, 1.0],\n",
              "                          'gamma': [0.0, 0.1, 0.2],\n",
              "                          'learning_rate': [0.02, 0.05, 0.1, 0.15, 0.25],\n",
              "                          'max_depth': [3, 4, 6, 10],\n",
              "                          'min_child_weight': [1, 3, 5, 7],\n",
              "                          'n_estimators': [50, 100, 200, 500]},\n",
              "                         {'booster': ['gblinear']}],\n",
              "             pre_dispatch='2*n_jobs', refit=True, return_train_score=False,\n",
              "             scoring='neg_mean_squared_error', verbose=2)"
            ]
          },
          "metadata": {
            "tags": []
          },
          "execution_count": 178
        }
      ]
    },
    {
      "cell_type": "code",
      "metadata": {
        "id": "sxWEczVThE6A"
      },
      "source": [
        "#Viewing search results\r\n",
        "means = clf.cv_results_['mean_test_score']\r\n",
        "stds = clf.cv_results_['std_test_score']\r\n",
        "params = clf.cv_results_['params']\r\n",
        "for mean, std, params in zip(means, stds, params):\r\n",
        "    print(f\"{mean:.3f} 2*std : {std:.3f} for {params}\")"
      ],
      "execution_count": null,
      "outputs": []
    },
    {
      "cell_type": "code",
      "metadata": {
        "colab": {
          "base_uri": "https://localhost:8080/"
        },
        "id": "-maXcIkHg7Iw",
        "outputId": "c41d7919-8f03-4989-9b2e-2161db133708"
      },
      "source": [
        "print(clf.best_params_)\r\n",
        "print(clf.best_score_)\r\n",
        "print((clf.best_score_ * -1)** 0.5)"
      ],
      "execution_count": 192,
      "outputs": [
        {
          "output_type": "stream",
          "text": [
            "{'booster': 'gbtree', 'colsample_bytree': 0.5, 'gamma': 0.0, 'learning_rate': 0.05, 'max_depth': 3, 'min_child_weight': 3, 'n_estimators': 100}\n",
            "-0.010221188511337858\n",
            "0.10109989372565066\n"
          ],
          "name": "stdout"
        }
      ]
    },
    {
      "cell_type": "code",
      "metadata": {
        "colab": {
          "base_uri": "https://localhost:8080/"
        },
        "id": "G4qIWLhl7xOI",
        "outputId": "1dc198a2-8405-41c4-a8b8-e81ca9a38cfc"
      },
      "source": [
        "scores = cross_val_score(XGBRegressor(objective='reg:squarederror',booster='gbtree',n_estimators=100,max_depth= 3,learning_rate=0.05,min_child_weight=3,gamma=0.0),X_train.to_numpy(),y_train.to_numpy(),cv=3,scoring='neg_mean_squared_error')\r\n",
        "print(np.mean(scores* -1))\r\n",
        "print(np.mean((scores* -1) ** 0.5 ))"
      ],
      "execution_count": 560,
      "outputs": [
        {
          "output_type": "stream",
          "text": [
            "0.010523037878305943\n",
            "0.10208307394596565\n"
          ],
          "name": "stdout"
        }
      ]
    },
    {
      "cell_type": "code",
      "metadata": {
        "colab": {
          "base_uri": "https://localhost:8080/"
        },
        "id": "-wNst3dQ8ijO",
        "outputId": "bbc23f9e-e093-4235-9173-83f925466c6d"
      },
      "source": [
        "scores = cross_val_score(XGBRegressor(objective='reg:squarederror',booster='gblinear',reg_alpha=0,reg_lambda=0,updater='coord_descent'),X_train.to_numpy(),y_train.to_numpy(),cv=3,scoring='neg_mean_squared_error')\r\n",
        "print(np.mean(scores* -1))\r\n",
        "print(np.mean((scores* -1) ** 0.5 ))"
      ],
      "execution_count": 586,
      "outputs": [
        {
          "output_type": "stream",
          "text": [
            "0.009580567815885186\n",
            "0.09731692681849076\n"
          ],
          "name": "stdout"
        }
      ]
    },
    {
      "cell_type": "code",
      "metadata": {
        "id": "d0O-4SOJ2y_6",
        "colab": {
          "base_uri": "https://localhost:8080/"
        },
        "outputId": "b3ef492f-a7f8-4944-fced-0c6bdf2b6617"
      },
      "source": [
        "#Training with full train set\r\n",
        "out_tree_model = XGBRegressor(objective='reg:linear',booster='gbtree',n_estimators=100,max_depth= 2,learning_rate=0.5,min_child_weight=3,gamma=0.0,reg_alpha=2,reg_lambda=2).fit(X_train.to_numpy(),y_train.to_numpy())"
      ],
      "execution_count": 564,
      "outputs": [
        {
          "output_type": "stream",
          "text": [
            "[06:23:52] WARNING: /workspace/src/objective/regression_obj.cu:152: reg:linear is now deprecated in favor of reg:squarederror.\n"
          ],
          "name": "stdout"
        }
      ]
    },
    {
      "cell_type": "code",
      "metadata": {
        "colab": {
          "base_uri": "https://localhost:8080/"
        },
        "id": "ygB6neMe9Bkj",
        "outputId": "499af8ed-4163-40a5-d2fc-f4bdc33304ae"
      },
      "source": [
        "out_linear_model = XGBRegressor(objective='reg:linear',updater='coord_descent',booster='gblinear',reg_alpha=0,reg_lambda=0).fit(X_train.to_numpy(),y_train.to_numpy())"
      ],
      "execution_count": 583,
      "outputs": [
        {
          "output_type": "stream",
          "text": [
            "[06:29:35] WARNING: /workspace/src/objective/regression_obj.cu:152: reg:linear is now deprecated in favor of reg:squarederror.\n"
          ],
          "name": "stdout"
        }
      ]
    },
    {
      "cell_type": "code",
      "metadata": {
        "id": "bt242zwHKua4"
      },
      "source": [
        "#Getting Model performance on test set\r\n",
        "y_pred_linear = out_linear_model.predict(X_test.to_numpy())\r\n",
        "y_pred_tree = out_tree_model.predict(X_test.to_numpy())"
      ],
      "execution_count": 584,
      "outputs": []
    },
    {
      "cell_type": "code",
      "metadata": {
        "colab": {
          "base_uri": "https://localhost:8080/"
        },
        "id": "Ico3Z9wMjCKE",
        "outputId": "dd8e0d08-ac16-4e2c-82c1-b1ce03d10d2e"
      },
      "source": [
        "#MSE and MAE of Scaled data\r\n",
        "print('Tree')\r\n",
        "print(mean_squared_error(y_test,y_pred_tree))\r\n",
        "print(mean_absolute_error(y_test,y_pred_tree))\r\n",
        "print('Linear')\r\n",
        "print(mean_squared_error(y_test,y_pred_linear))\r\n",
        "print(mean_absolute_error(y_test,y_pred_linear))"
      ],
      "execution_count": 585,
      "outputs": [
        {
          "output_type": "stream",
          "text": [
            "Tree\n",
            "0.010318710155460733\n",
            "0.07944750739312743\n",
            "Linear\n",
            "0.00960616947224997\n",
            "0.07817984308160059\n"
          ],
          "name": "stdout"
        }
      ]
    },
    {
      "cell_type": "code",
      "metadata": {
        "id": "11QCnIZgEetX"
      },
      "source": [
        "#Linear model appears to perform slighly better\r\n",
        "y_pred = y_pred_linear"
      ],
      "execution_count": 574,
      "outputs": []
    },
    {
      "cell_type": "code",
      "metadata": {
        "id": "BzoYYrgbGG4e"
      },
      "source": [
        "#Unscaling y output to get true Mean absolute error in predictiing Points/Game\r\n",
        "y_pred_unscaled = scalers['20192020p/g'].inverse_transform(y_pred.reshape(-1,1))\r\n",
        "y_test_unscaled = scalers['20192020p/g'].inverse_transform(y_test.to_numpy().reshape(-1,1))"
      ],
      "execution_count": 575,
      "outputs": []
    },
    {
      "cell_type": "code",
      "metadata": {
        "id": "Lc4zuDGG7wgZ",
        "colab": {
          "base_uri": "https://localhost:8080/"
        },
        "outputId": "dd2d51f7-d7b6-4811-e79e-7a1b990330b4"
      },
      "source": [
        "#Intuitive measure of model performance is the average magnitude of its error in predicting unscaled points per game\r\n",
        "print(mean_absolute_error(y_test_unscaled,y_pred_unscaled))\r\n",
        "print(max_error(y_test_unscaled,y_pred_unscaled))"
      ],
      "execution_count": 576,
      "outputs": [
        {
          "output_type": "stream",
          "text": [
            "0.12112370065681136\n",
            "0.38303507410961646\n"
          ],
          "name": "stdout"
        }
      ]
    },
    {
      "cell_type": "markdown",
      "metadata": {
        "id": "owLelg7u2xE6"
      },
      "source": [
        "####The XGBoost and Linear Regression models perform quite similarly with the linear XGBoost model seeming to perform the best by a marginal amount, this may be because of the very small size of our input dataset"
      ]
    },
    {
      "cell_type": "markdown",
      "metadata": {
        "id": "0cSSOSLbwmEK"
      },
      "source": [
        "####4. Random Analysis"
      ]
    },
    {
      "cell_type": "code",
      "metadata": {
        "id": "4wzjZ62Ud1jQ"
      },
      "source": [
        "y_idk = pd.DataFrame(y_test)"
      ],
      "execution_count": 226,
      "outputs": []
    },
    {
      "cell_type": "code",
      "metadata": {
        "id": "AzGF1_5CkQ7N"
      },
      "source": [
        "y_idk['test_unscaled'] = y_test_unscaled \r\n",
        "y_idk['pred_unscaled'] = y_pred_unscaled \r\n",
        "y_idk.drop(columns=['20192020p/g'],inplace=True)"
      ],
      "execution_count": 227,
      "outputs": []
    },
    {
      "cell_type": "code",
      "metadata": {
        "id": "yspEo_tilUfS"
      },
      "source": [
        "def name_f(x):\r\n",
        "  r = requests.get(url=f'http://statsapi.web.nhl.com/api/v1/people/{x}')\r\n",
        "  data = r.json()\r\n",
        "  return data['people'][0]['fullName']"
      ],
      "execution_count": 228,
      "outputs": []
    },
    {
      "cell_type": "code",
      "metadata": {
        "id": "MHnAOrAlknfc"
      },
      "source": [
        "y_idk['name'] = y_idk.index.map(lambda x: name_f(x))"
      ],
      "execution_count": 229,
      "outputs": []
    },
    {
      "cell_type": "code",
      "metadata": {
        "id": "2tZ8blGQmBdD"
      },
      "source": [
        "y_compare = y_idk.join(orig_examples)\r\n",
        "y_compare.drop(columns = ['20152016Pct','20162017Pct','20172018Pct','20182019Pct'],inplace=True)\r\n",
        "y_compare['error'] = abs(y_compare['test_unscaled'] - y_compare['pred_unscaled'])\r\n",
        "y_compare.reset_index(inplace=True)"
      ],
      "execution_count": 235,
      "outputs": []
    },
    {
      "cell_type": "code",
      "metadata": {
        "colab": {
          "base_uri": "https://localhost:8080/",
          "height": 404
        },
        "id": "ELIp2YAIqcsd",
        "outputId": "907d95c4-bc2e-4245-e136-66d8d21781c0"
      },
      "source": [
        "import matplotlib.pyplot as plt\r\n",
        "%matplotlib inline\r\n",
        "plt.hist(y_compare['error'].to_numpy(),bins=20)"
      ],
      "execution_count": 248,
      "outputs": [
        {
          "output_type": "execute_result",
          "data": {
            "text/plain": [
              "(array([7., 6., 5., 9., 4., 6., 7., 4., 5., 6., 2., 3., 0., 1., 2., 0., 0.,\n",
              "        2., 1., 2.]),\n",
              " array([0.0005751 , 0.02004083, 0.03950657, 0.0589723 , 0.07843804,\n",
              "        0.09790377, 0.11736951, 0.13683524, 0.15630098, 0.17576671,\n",
              "        0.19523244, 0.21469818, 0.23416391, 0.25362965, 0.27309538,\n",
              "        0.29256112, 0.31202685, 0.33149258, 0.35095832, 0.37042405,\n",
              "        0.38988979]),\n",
              " <a list of 20 Patch objects>)"
            ]
          },
          "metadata": {
            "tags": []
          },
          "execution_count": 248
        },
        {
          "output_type": "display_data",
          "data": {
            "image/png": "[encoded data removed]",
            "text/plain": [
              "<Figure size 432x288 with 1 Axes>"
            ]
          },
          "metadata": {
            "tags": [],
            "needs_background": "light"
          }
        }
      ]
    },
    {
      "cell_type": "code",
      "metadata": {
        "colab": {
          "base_uri": "https://localhost:8080/",
          "height": 966
        },
        "id": "mgVN4UfqqpNT",
        "outputId": "b7fc7468-a8b3-4206-d4a3-83412a808b1f"
      },
      "source": [
        "fig = plt.figure(figsize = (40,15))\r\n",
        "x = 5\r\n",
        "plt.plot([0,1,2,3,4], [y_compare.loc[0:x]['20152016p/g'],y_compare.loc[0:x]['20162017p/g'],y_compare.loc[0:x]['20172018p/g'],y_compare.loc[0:x]['20182019p/g'],y_compare.loc[0:x]['pred_unscaled']],color='red')\r\n",
        "plt.plot([0,1,2,3,4], [y_compare.loc[0:x]['20152016p/g'],y_compare.loc[0:x]['20162017p/g'],y_compare.loc[0:x]['20172018p/g'],y_compare.loc[0:x]['20182019p/g'],y_compare.loc[0:x]['20192020p/g']],color='green')\r\n"
      ],
      "execution_count": 280,
      "outputs": [
        {
          "output_type": "execute_result",
          "data": {
            "text/plain": [
              "[<matplotlib.lines.Line2D at 0x7fb43ff23320>,\n",
              " <matplotlib.lines.Line2D at 0x7fb43fecde48>,\n",
              " <matplotlib.lines.Line2D at 0x7fb43fecdf98>,\n",
              " <matplotlib.lines.Line2D at 0x7fb43feda128>,\n",
              " <matplotlib.lines.Line2D at 0x7fb43feda278>,\n",
              " <matplotlib.lines.Line2D at 0x7fb43feda3c8>]"
            ]
          },
          "metadata": {
            "tags": []
          },
          "execution_count": 280
        },
        {
          "output_type": "display_data",
          "data": {
            "image/png": "[encoded data removed]",
            "text/plain": [
              "<Figure size 2880x1080 with 1 Axes>"
            ]
          },
          "metadata": {
            "tags": [],
            "needs_background": "light"
          }
        }
      ]
    },
    {
      "cell_type": "code",
      "metadata": {
        "id": "bWulEw8Uw7jT"
      },
      "source": [
        ""
      ],
      "execution_count": null,
      "outputs": []
    }
  ]
}